{
 "cells": [
  {
   "cell_type": "code",
   "execution_count": 1,
   "metadata": {},
   "outputs": [],
   "source": [
    "import findspark"
   ]
  },
  {
   "cell_type": "code",
   "execution_count": 2,
   "metadata": {},
   "outputs": [],
   "source": [
    "findspark.init('/users/janetteboney/anaconda3/lib/python3.7/site-packages/pyspark')"
   ]
  },
  {
   "cell_type": "code",
   "execution_count": 3,
   "metadata": {},
   "outputs": [],
   "source": [
    "from pyspark.sql import SparkSession"
   ]
  },
  {
   "cell_type": "code",
   "execution_count": 4,
   "metadata": {},
   "outputs": [],
   "source": [
    "import pyspark.sql.functions as F"
   ]
  },
  {
   "cell_type": "code",
   "execution_count": 5,
   "metadata": {},
   "outputs": [],
   "source": [
    "spark_session = SparkSession.builder.appName(\"Ops\").getOrCreate()"
   ]
  },
  {
   "cell_type": "code",
   "execution_count": 6,
   "metadata": {},
   "outputs": [],
   "source": [
    "df = spark_session.read.csv(\"heart.csv\", inferSchema=True, header=True)"
   ]
  },
  {
   "cell_type": "code",
   "execution_count": 7,
   "metadata": {},
   "outputs": [
    {
     "data": {
      "text/plain": [
       "14"
      ]
     },
     "execution_count": 7,
     "metadata": {},
     "output_type": "execute_result"
    }
   ],
   "source": [
    "len(df.columns)"
   ]
  },
  {
   "cell_type": "code",
   "execution_count": 8,
   "metadata": {},
   "outputs": [],
   "source": [
    "#define header\n",
    "header = df.first()"
   ]
  },
  {
   "cell_type": "code",
   "execution_count": 9,
   "metadata": {
    "scrolled": true
   },
   "outputs": [
    {
     "data": {
      "text/plain": [
       "Row(age=63, sex=1, cp=3, trestbps=145, chol=233, fbs=1, restecg=0, thalach=150, exang=0, oldpeak=2.3, slope=0, ca=0, thal=1, target=1)"
      ]
     },
     "execution_count": 9,
     "metadata": {},
     "output_type": "execute_result"
    }
   ],
   "source": [
    "#show header\n",
    "header"
   ]
  },
  {
   "cell_type": "code",
   "execution_count": 10,
   "metadata": {},
   "outputs": [
    {
     "name": "stdout",
     "output_type": "stream",
     "text": [
      "root\n",
      " |-- age: integer (nullable = true)\n",
      " |-- sex: integer (nullable = true)\n",
      " |-- cp: integer (nullable = true)\n",
      " |-- trestbps: integer (nullable = true)\n",
      " |-- chol: integer (nullable = true)\n",
      " |-- fbs: integer (nullable = true)\n",
      " |-- restecg: integer (nullable = true)\n",
      " |-- thalach: integer (nullable = true)\n",
      " |-- exang: integer (nullable = true)\n",
      " |-- oldpeak: double (nullable = true)\n",
      " |-- slope: integer (nullable = true)\n",
      " |-- ca: integer (nullable = true)\n",
      " |-- thal: integer (nullable = true)\n",
      " |-- target: integer (nullable = true)\n",
      "\n"
     ]
    }
   ],
   "source": [
    "#look at how the data were defined from inferred schema\n",
    "df.printSchema()"
   ]
  },
  {
   "cell_type": "markdown",
   "metadata": {},
   "source": [
    "age: The person's age in years\n",
    "sex: The person's sex (1 = male, 0 = female)\n",
    "cp: The chest pain experienced (Value 1: typical angina, Value 2: atypical angina, Value 3: non-anginal pain, Value 4: asymptomatic)\n",
    "trestbps: The person's resting blood pressure (mm Hg on admission to the hospital)\n",
    "chol: The person's cholesterol measurement in mg/dl\n",
    "fbs: The person's fasting blood sugar (> 120 mg/dl, 1 = true; 0 = false)\n",
    "restecg: Resting electrocardiographic measurement (0 = normal, 1 = having ST-T wave abnormality, 2 = showing probable or definite left ventricular hypertrophy by Estes' criteria)\n",
    "thalach: The person's maximum heart rate achieved\n",
    "exang: Exercise induced angina (1 = yes; 0 = no)\n",
    "oldpeak: ST depression induced by exercise relative to rest ('ST' relates to positions on the ECG plot. See more here)\n",
    "slope: the slope of the peak exercise ST segment (Value 1: upsloping, Value 2: flat, Value 3: downsloping)\n",
    "ca: The number of major vessels (0-3)\n",
    "thal: A blood disorder called thalassemia (3 = normal; 6 = fixed defect; 7 = reversable defect)\n",
    "target: Heart disease (0 = no, 1 = yes)"
   ]
  },
  {
   "cell_type": "code",
   "execution_count": 11,
   "metadata": {},
   "outputs": [
    {
     "name": "stdout",
     "output_type": "stream",
     "text": [
      "+---+---+---+--------+----+---+-------+-------+-----+-------+-----+---+----+------+\n",
      "|age|sex| cp|trestbps|chol|fbs|restecg|thalach|exang|oldpeak|slope| ca|thal|target|\n",
      "+---+---+---+--------+----+---+-------+-------+-----+-------+-----+---+----+------+\n",
      "| 63|  1|  3|     145| 233|  1|      0|    150|    0|    2.3|    0|  0|   1|     1|\n",
      "| 37|  1|  2|     130| 250|  0|      1|    187|    0|    3.5|    0|  0|   2|     1|\n",
      "| 41|  0|  1|     130| 204|  0|      0|    172|    0|    1.4|    2|  0|   2|     1|\n",
      "| 56|  1|  1|     120| 236|  0|      1|    178|    0|    0.8|    2|  0|   2|     1|\n",
      "| 57|  0|  0|     120| 354|  0|      1|    163|    1|    0.6|    2|  0|   2|     1|\n",
      "+---+---+---+--------+----+---+-------+-------+-----+-------+-----+---+----+------+\n",
      "only showing top 5 rows\n",
      "\n"
     ]
    }
   ],
   "source": [
    "#preview top 5 rows of the data\n",
    "df.show(5)"
   ]
  },
  {
   "cell_type": "code",
   "execution_count": 12,
   "metadata": {},
   "outputs": [
    {
     "name": "stdout",
     "output_type": "stream",
     "text": [
      "+---+\n",
      "|age|\n",
      "+---+\n",
      "| 63|\n",
      "| 37|\n",
      "| 41|\n",
      "| 56|\n",
      "| 57|\n",
      "+---+\n",
      "only showing top 5 rows\n",
      "\n"
     ]
    }
   ],
   "source": [
    "#select just one column\n",
    "df.select('age').show(5)"
   ]
  },
  {
   "cell_type": "code",
   "execution_count": 31,
   "metadata": {},
   "outputs": [
    {
     "name": "stdout",
     "output_type": "stream",
     "text": [
      "+-------+------------------+-------------------+------------------+------------------+------------------+-------------------+-----------------+------------------+-------------------+------------------+------------------+------------------+------------------+------------------+\n",
      "|summary|               age|                sex|                cp|          trestbps|              chol|                fbs|          restecg|           thalach|              exang|           oldpeak|             slope|                ca|              thal|            target|\n",
      "+-------+------------------+-------------------+------------------+------------------+------------------+-------------------+-----------------+------------------+-------------------+------------------+------------------+------------------+------------------+------------------+\n",
      "|  count|               303|                303|               303|               303|               303|                303|              303|               303|                303|               303|               303|               303|               303|               303|\n",
      "|   mean|54.366336633663366| 0.6831683168316832| 0.966996699669967|131.62376237623764|246.26402640264027| 0.1485148514851485|0.528052805280528|149.64686468646866|0.32673267326732675|1.0396039603960396|1.3993399339933994|0.7293729372937293|2.3135313531353137|0.5445544554455446|\n",
      "| stddev|  9.08210098983786|0.46601082333962385|1.0320524894832983|  17.5381428135171| 51.83075098793005|0.35619787492797644|0.525859596359298| 22.90516111491409|0.46979446452231655|1.1610750220686346|0.6162261453459622|1.0226063649693276|0.6122765072781408|0.4988347841643915|\n",
      "|    min|                29|                  0|                 0|                94|               126|                  0|                0|                71|                  0|               0.0|                 0|                 0|                 0|                 0|\n",
      "|    max|                77|                  1|                 3|               200|               564|                  1|                2|               202|                  1|               6.2|                 2|                 4|                 3|                 1|\n",
      "+-------+------------------+-------------------+------------------+------------------+------------------+-------------------+-----------------+------------------+-------------------+------------------+------------------+------------------+------------------+------------------+\n",
      "\n"
     ]
    }
   ],
   "source": [
    "#calculate summary statistics\n",
    "df.describe().show()   "
   ]
  },
  {
   "cell_type": "code",
   "execution_count": 41,
   "metadata": {},
   "outputs": [
    {
     "name": "stdout",
     "output_type": "stream",
     "text": [
      "+-------+------------------+---+------------------+------------------+----------------+-------------------+------------------+------------------+------------------+------------------+------------------+------------------+-------------------+------+\n",
      "|summary|               age|sex|                cp|          trestbps|            chol|                fbs|           restecg|           thalach|             exang|           oldpeak|             slope|                ca|               thal|target|\n",
      "+-------+------------------+---+------------------+------------------+----------------+-------------------+------------------+------------------+------------------+------------------+------------------+------------------+-------------------+------+\n",
      "|  count|                72| 72|                72|                72|              72|                 72|                72|                72|                72|                72|                72|                72|                 72|    72|\n",
      "|   mean| 54.55555555555556|0.0|1.3333333333333333|128.73611111111111|          256.75|0.08333333333333333|0.5833333333333334|154.02777777777777|0.1111111111111111|0.5541666666666668|1.5833333333333333|0.3055555555555556|                2.0|   1.0|\n",
      "| stddev|10.265337393368373|0.0|0.9192771195538434| 16.53676489263365|66.2161952020973| 0.2783249696530916|0.5240685902856073| 19.25292896848204|0.3164751088516942| 0.647843116985395| 0.550288016777079|0.5966783380713856|0.29070094986690553|   0.0|\n",
      "|    min|                34|  0|                 0|                94|             141|                  0|                 0|                96|                 0|               0.0|                 0|                 0|                  0|     1|\n",
      "|    max|                76|  0|                 3|               180|             564|                  1|                 2|               192|                 1|               2.6|                 2|                 2|                  3|     1|\n",
      "+-------+------------------+---+------------------+------------------+----------------+-------------------+------------------+------------------+------------------+------------------+------------------+------------------+-------------------+------+\n",
      "\n"
     ]
    }
   ],
   "source": [
    "#define dataframe for those with heart disease, women with heart disease, men with heart disease, and \n",
    "#calculate summary statistics for women with heart disease\n",
    "df1 = df.filter(df[\"target\"] == 1)\n",
    "df2 = df1.filter(df1[\"sex\"] == 0)\n",
    "df3 = df1.filter(df1[\"sex\"] == 1)\n",
    "df2.describe().show()   "
   ]
  },
  {
   "cell_type": "code",
   "execution_count": 30,
   "metadata": {},
   "outputs": [
    {
     "name": "stdout",
     "output_type": "stream",
     "text": [
      "+---+---+---+--------+----+---+-------+-------+-----+-------+-----+---+----+------+\n",
      "|age|sex| cp|trestbps|chol|fbs|restecg|thalach|exang|oldpeak|slope| ca|thal|target|\n",
      "+---+---+---+--------+----+---+-------+-------+-----+-------+-----+---+----+------+\n",
      "| 65|  0|  2|     140| 417|  1|      0|    157|    0|    0.8|    2|  1|   2|     1|\n",
      "| 67|  0|  2|     115| 564|  0|      0|    160|    0|    1.6|    1|  0|   3|     1|\n",
      "| 63|  0|  0|     150| 407|  0|      0|    154|    0|    4.0|    1|  3|   3|     0|\n",
      "| 56|  0|  0|     134| 409|  0|      0|    150|    1|    1.9|    1|  2|   3|     0|\n",
      "+---+---+---+--------+----+---+-------+-------+-----+-------+-----+---+----+------+\n",
      "\n"
     ]
    }
   ],
   "source": [
    "#all with total cholesterol over 400mg/dl were women - only half of them had heart disease\n",
    "df.filter(df[\"chol\"] > 400).show()"
   ]
  },
  {
   "cell_type": "code",
   "execution_count": 14,
   "metadata": {},
   "outputs": [
    {
     "name": "stdout",
     "output_type": "stream",
     "text": [
      "+---+---+--------+----+-----+\n",
      "|age|sex|trestbps|chol|count|\n",
      "+---+---+--------+----+-----+\n",
      "| 29|  1|     130| 204|    1|\n",
      "| 34|  1|     118| 182|    1|\n",
      "| 34|  0|     118| 210|    1|\n",
      "| 35|  1|     122| 192|    1|\n",
      "| 35|  1|     120| 198|    1|\n",
      "| 35|  0|     138| 183|    1|\n",
      "| 35|  1|     126| 282|    1|\n",
      "| 37|  1|     130| 250|    1|\n",
      "| 37|  0|     120| 215|    1|\n",
      "| 38|  1|     138| 175|    2|\n",
      "+---+---+--------+----+-----+\n",
      "only showing top 10 rows\n",
      "\n"
     ]
    }
   ],
   "source": [
    "df.groupBy([\"age\", \"sex\", \"trestbps\", \"chol\"]).count().orderBy(F.asc(\"age\")).show(10)"
   ]
  },
  {
   "cell_type": "code",
   "execution_count": 15,
   "metadata": {},
   "outputs": [],
   "source": [
    "#create a temporary table\n",
    "df.createOrReplaceTempView(\"HEART_DISEASE\")"
   ]
  },
  {
   "cell_type": "code",
   "execution_count": 36,
   "metadata": {},
   "outputs": [
    {
     "name": "stdout",
     "output_type": "stream",
     "text": [
      "+---+---+---+--------+----+---+-------+-------+-----+-------+-----+---+----+------+\n",
      "|age|sex| cp|trestbps|chol|fbs|restecg|thalach|exang|oldpeak|slope| ca|thal|target|\n",
      "+---+---+---+--------+----+---+-------+-------+-----+-------+-----+---+----+------+\n",
      "| 29|  1|  1|     130| 204|  0|      0|    202|    0|    0.0|    2|  0|   2|     1|\n",
      "| 34|  1|  3|     118| 182|  0|      0|    174|    0|    0.0|    2|  0|   2|     1|\n",
      "| 35|  1|  1|     122| 192|  0|      1|    174|    0|    0.0|    2|  0|   2|     1|\n",
      "| 37|  1|  2|     130| 250|  0|      1|    187|    0|    3.5|    0|  0|   2|     1|\n",
      "| 38|  1|  2|     138| 175|  0|      1|    173|    0|    0.0|    2|  4|   2|     1|\n",
      "| 38|  1|  2|     138| 175|  0|      1|    173|    0|    0.0|    2|  4|   2|     1|\n",
      "| 39|  1|  2|     140| 321|  0|      0|    182|    0|    0.0|    2|  0|   2|     1|\n",
      "| 40|  1|  3|     140| 199|  0|      1|    178|    1|    1.4|    2|  0|   3|     1|\n",
      "| 41|  1|  1|     135| 203|  0|      1|    132|    0|    0.0|    1|  0|   1|     1|\n",
      "| 41|  1|  2|     112| 250|  0|      1|    179|    0|    0.0|    2|  0|   2|     1|\n",
      "+---+---+---+--------+----+---+-------+-------+-----+-------+-----+---+----+------+\n",
      "only showing top 10 rows\n",
      "\n"
     ]
    }
   ],
   "source": [
    "#males with heart disease\n",
    "male_heart_disease = spark_session.sql(\"\"\"    \n",
    "    SELECT\n",
    "        *\n",
    "    FROM\n",
    "        HEART_DISEASE \n",
    "    WHERE\n",
    "        TARGET == 1\n",
    "    AND SEX == 1\n",
    "    ORDER BY \n",
    "        AGE\n",
    "\"\"\").show(10)"
   ]
  },
  {
   "cell_type": "code",
   "execution_count": 37,
   "metadata": {},
   "outputs": [
    {
     "name": "stdout",
     "output_type": "stream",
     "text": [
      "+---+---+---+--------+----+---+-------+-------+-----+-------+-----+---+----+------+\n",
      "|age|sex| cp|trestbps|chol|fbs|restecg|thalach|exang|oldpeak|slope| ca|thal|target|\n",
      "+---+---+---+--------+----+---+-------+-------+-----+-------+-----+---+----+------+\n",
      "| 34|  0|  1|     118| 210|  0|      1|    192|    0|    0.7|    2|  0|   2|     1|\n",
      "| 35|  0|  0|     138| 183|  0|      1|    182|    0|    1.4|    2|  0|   2|     1|\n",
      "| 37|  0|  2|     120| 215|  0|      1|    170|    0|    0.0|    2|  0|   2|     1|\n",
      "| 39|  0|  2|      94| 199|  0|      1|    179|    0|    0.0|    2|  0|   2|     1|\n",
      "| 39|  0|  2|     138| 220|  0|      1|    152|    0|    0.0|    1|  0|   2|     1|\n",
      "| 41|  0|  1|     105| 198|  0|      1|    168|    0|    0.0|    2|  1|   2|     1|\n",
      "| 41|  0|  1|     126| 306|  0|      1|    163|    0|    0.0|    2|  0|   2|     1|\n",
      "| 41|  0|  1|     130| 204|  0|      0|    172|    0|    1.4|    2|  0|   2|     1|\n",
      "| 41|  0|  2|     112| 268|  0|      0|    172|    1|    0.0|    2|  0|   2|     1|\n",
      "| 42|  0|  0|     102| 265|  0|      0|    122|    0|    0.6|    1|  0|   2|     1|\n",
      "+---+---+---+--------+----+---+-------+-------+-----+-------+-----+---+----+------+\n",
      "only showing top 10 rows\n",
      "\n"
     ]
    }
   ],
   "source": [
    "#females with heart disease\n",
    "female_heart_disease = spark_session.sql(\"\"\"    \n",
    "    SELECT\n",
    "        *\n",
    "    FROM\n",
    "        HEART_DISEASE \n",
    "    WHERE\n",
    "        TARGET == 1\n",
    "    AND SEX == 0\n",
    "    ORDER BY \n",
    "        AGE\n",
    "\"\"\").show(10)"
   ]
  },
  {
   "cell_type": "code",
   "execution_count": 18,
   "metadata": {},
   "outputs": [],
   "source": [
    "#outputs graphs to notebook\n",
    "%matplotlib inline"
   ]
  },
  {
   "cell_type": "code",
   "execution_count": 44,
   "metadata": {},
   "outputs": [
    {
     "data": {
      "text/plain": [
       "<matplotlib.axes._subplots.AxesSubplot at 0x11fd78400>"
      ]
     },
     "execution_count": 44,
     "metadata": {},
     "output_type": "execute_result"
    },
    {
     "data": {
      "image/png": "[encoded data removed]",
      "text/plain": [
       "<Figure size 432x288 with 1 Axes>"
      ]
     },
     "metadata": {
      "needs_background": "light"
     },
     "output_type": "display_data"
    }
   ],
   "source": [
    "#plot women with heart disease by cholesterol and age whose resting blood pressure is over 120mm Hg\n",
    "df2[df2.trestbps > 120].toPandas().plot(\n",
    "    x = \"chol\",\n",
    "    y = \"age\",\n",
    "    kind = \"scatter\"\n",
    ")"
   ]
  },
  {
   "cell_type": "code",
   "execution_count": 40,
   "metadata": {},
   "outputs": [
    {
     "name": "stdout",
     "output_type": "stream",
     "text": [
      "+---+---+------------------+\n",
      "|sex|age|         avg(chol)|\n",
      "+---+---+------------------+\n",
      "|  1| 29|             204.0|\n",
      "|  1| 34|             182.0|\n",
      "|  0| 34|             210.0|\n",
      "|  0| 35|             183.0|\n",
      "|  1| 35|             192.0|\n",
      "|  0| 37|             215.0|\n",
      "|  1| 37|             250.0|\n",
      "|  1| 38|             175.0|\n",
      "|  1| 39|             321.0|\n",
      "|  0| 39|             209.5|\n",
      "|  1| 40|             199.0|\n",
      "|  1| 41|             211.8|\n",
      "|  0| 41|             244.0|\n",
      "|  1| 42|             237.0|\n",
      "|  0| 42|             237.0|\n",
      "|  0| 43|             213.0|\n",
      "|  1| 43|             269.0|\n",
      "|  1| 44|232.66666666666666|\n",
      "|  0| 44|             191.5|\n",
      "|  1| 45| 258.6666666666667|\n",
      "+---+---+------------------+\n",
      "only showing top 20 rows\n",
      "\n"
     ]
    }
   ],
   "source": [
    "#table of men and women with heart disease grouped by sex and age with average choleserol level \n",
    "df1.groupBy(\"sex\", \"age\").avg(\"chol\").orderBy(F.asc(\"age\")).show()"
   ]
  },
  {
   "cell_type": "code",
   "execution_count": 45,
   "metadata": {},
   "outputs": [
    {
     "name": "stdout",
     "output_type": "stream",
     "text": [
      "+---+---+------------------+------------------+\n",
      "|age|sex|         avg(chol)|     avg(trestbps)|\n",
      "+---+---+------------------+------------------+\n",
      "| 62|  1|             219.5|             129.0|\n",
      "| 69|  1|             234.0|             160.0|\n",
      "| 58|  1|223.66666666666666|123.33333333333333|\n",
      "| 71|  0|238.66666666666666|127.33333333333333|\n",
      "| 48|  1|240.66666666666666|125.33333333333333|\n",
      "| 54|  0|             254.8|             129.0|\n",
      "| 56|  0|             294.0|             140.0|\n",
      "| 42|  0|             237.0|             111.0|\n",
      "| 41|  0|             244.0|            118.25|\n",
      "| 64|  0| 313.6666666666667|             150.0|\n",
      "| 68|  0|             211.0|             120.0|\n",
      "| 66|  1|             265.0|             140.0|\n",
      "| 41|  1|             211.8|             121.4|\n",
      "| 39|  0|             209.5|             116.0|\n",
      "| 63|  0|             223.5|             137.5|\n",
      "| 59|  1|             241.6|             148.2|\n",
      "| 46|  0|             208.0|128.33333333333334|\n",
      "| 44|  1|232.66666666666666|126.66666666666667|\n",
      "| 54|  1|             262.2|             128.6|\n",
      "| 49|  0|             270.0|             132.0|\n",
      "+---+---+------------------+------------------+\n",
      "only showing top 20 rows\n",
      "\n"
     ]
    }
   ],
   "source": [
    "#men and women with heart disease and average cholesterol and resting blood pressure\n",
    "df[df.target == 1].groupBy(\"age\", \"sex\").avg(\"chol\", \"trestbps\").show()"
   ]
  },
  {
   "cell_type": "code",
   "execution_count": 22,
   "metadata": {},
   "outputs": [
    {
     "data": {
      "text/plain": [
       "<matplotlib.axes._subplots.AxesSubplot at 0x11f857dd8>"
      ]
     },
     "execution_count": 22,
     "metadata": {},
     "output_type": "execute_result"
    },
    {
     "data": {
      "image/png": "[encoded data removed]",
      "text/plain": [
       "<Figure size 432x288 with 1 Axes>"
      ]
     },
     "metadata": {
      "needs_background": "light"
     },
     "output_type": "display_data"
    }
   ],
   "source": [
    "#plot men with heart disease by age and cholesterol whose blood pressure is > 120mm Hg\n",
    "df3[df3.trestbps > 120].toPandas().plot(\n",
    "    x = \"chol\",\n",
    "    y = \"age\",\n",
    "    kind = \"scatter\"\n",
    ")"
   ]
  },
  {
   "cell_type": "code",
   "execution_count": 23,
   "metadata": {},
   "outputs": [
    {
     "data": {
      "text/plain": [
       "<matplotlib.axes._subplots.AxesSubplot at 0x11f988cc0>"
      ]
     },
     "execution_count": 23,
     "metadata": {},
     "output_type": "execute_result"
    },
    {
     "data": {
      "image/png": "[encoded data removed]",
      "text/plain": [
       "<Figure size 432x288 with 1 Axes>"
      ]
     },
     "metadata": {
      "needs_background": "light"
     },
     "output_type": "display_data"
    }
   ],
   "source": [
    "#men and women with heart disease by age and cholesterol\n",
    "df[df.target == 1].toPandas().plot(\n",
    "    x = \"chol\",\n",
    "    y = \"age\",\n",
    "    kind = \"scatter\"\n",
    ")"
   ]
  },
  {
   "cell_type": "code",
   "execution_count": 54,
   "metadata": {},
   "outputs": [
    {
     "data": {
      "text/plain": [
       "<matplotlib.axes._subplots.AxesSubplot at 0x11e7bc978>"
      ]
     },
     "execution_count": 54,
     "metadata": {},
     "output_type": "execute_result"
    },
    {
     "data": {
      "image/png": "[encoded data removed]",
      "text/plain": [
       "<Figure size 432x288 with 1 Axes>"
      ]
     },
     "metadata": {
      "needs_background": "light"
     },
     "output_type": "display_data"
    }
   ],
   "source": [
    "#men and women with heart disease by age and average cholesterol\n",
    "df[df.target == 1].groupBy(\"age\").avg(\"chol\").toPandas().plot(\n",
    "    x = \"age\",\n",
    "    y = \"avg(chol)\",\n",
    "    kind = \"scatter\"\n",
    ")"
   ]
  },
  {
   "cell_type": "code",
   "execution_count": 55,
   "metadata": {},
   "outputs": [
    {
     "data": {
      "text/plain": [
       "<matplotlib.axes._subplots.AxesSubplot at 0x11e9fe6d8>"
      ]
     },
     "execution_count": 55,
     "metadata": {},
     "output_type": "execute_result"
    },
    {
     "data": {
      "image/png": "[encoded data removed]",
      "text/plain": [
       "<Figure size 432x288 with 1 Axes>"
      ]
     },
     "metadata": {
      "needs_background": "light"
     },
     "output_type": "display_data"
    }
   ],
   "source": [
    "#men and women without heart disease by age and average cholesterol\n",
    "df[df.target == 0].groupBy(\"age\").avg(\"chol\").toPandas().plot(\n",
    "    x = \"age\",\n",
    "    y = \"avg(chol)\",\n",
    "    kind = \"scatter\"\n",
    ")"
   ]
  },
  {
   "cell_type": "code",
   "execution_count": 56,
   "metadata": {},
   "outputs": [
    {
     "data": {
      "text/plain": [
       "<matplotlib.axes._subplots.AxesSubplot at 0x12049d2e8>"
      ]
     },
     "execution_count": 56,
     "metadata": {},
     "output_type": "execute_result"
    },
    {
     "data": {
      "image/png": "[encoded data removed]",
      "text/plain": [
       "<Figure size 432x288 with 1 Axes>"
      ]
     },
     "metadata": {
      "needs_background": "light"
     },
     "output_type": "display_data"
    }
   ],
   "source": [
    "#this is average cholesterol for men and women with heart disease\n",
    "df1.groupBy(\"age\").avg(\"chol\").toPandas().plot(\n",
    "    x = \"age\",\n",
    "    y = \"avg(chol)\",\n",
    "    kind = \"hist\"\n",
    ")"
   ]
  },
  {
   "cell_type": "code",
   "execution_count": 55,
   "metadata": {},
   "outputs": [
    {
     "data": {
      "text/plain": [
       "<matplotlib.axes._subplots.AxesSubplot at 0x10cf459e8>"
      ]
     },
     "execution_count": 55,
     "metadata": {},
     "output_type": "execute_result"
    },
    {
     "data": {
      "image/png": "[encoded data removed]",
      "text/plain": [
       "<Figure size 432x288 with 1 Axes>"
      ]
     },
     "metadata": {
      "needs_background": "light"
     },
     "output_type": "display_data"
    }
   ],
   "source": [
    "#average cholesterol for men and women with and without heart disease\n",
    "df.groupBy(\"age\").avg(\"chol\").toPandas().plot(\n",
    "    x = \"age\",\n",
    "    y = \"avg(chol)\",\n",
    "    kind = \"hist\"\n",
    ")"
   ]
  },
  {
   "cell_type": "markdown",
   "metadata": {},
   "source": [
    "No correlations were noted below. This initially surprised me, but seems consistent with the tables and plots above."
   ]
  },
  {
   "cell_type": "code",
   "execution_count": 51,
   "metadata": {},
   "outputs": [
    {
     "data": {
      "text/plain": [
       "0.2136779565595619"
      ]
     },
     "execution_count": 51,
     "metadata": {},
     "output_type": "execute_result"
    }
   ],
   "source": [
    "df.corr(\"age\", \"chol\")"
   ]
  },
  {
   "cell_type": "code",
   "execution_count": 58,
   "metadata": {},
   "outputs": [
    {
     "data": {
      "text/plain": [
       "-0.1979121741411069"
      ]
     },
     "execution_count": 58,
     "metadata": {},
     "output_type": "execute_result"
    }
   ],
   "source": [
    "df.corr(\"sex\", \"chol\")"
   ]
  },
  {
   "cell_type": "code",
   "execution_count": 60,
   "metadata": {},
   "outputs": [
    {
     "data": {
      "text/plain": [
       "-0.07690439103320776"
      ]
     },
     "execution_count": 60,
     "metadata": {},
     "output_type": "execute_result"
    }
   ],
   "source": [
    "df.corr(\"chol\", \"cp\")"
   ]
  },
  {
   "cell_type": "code",
   "execution_count": 61,
   "metadata": {},
   "outputs": [
    {
     "data": {
      "text/plain": [
       "-0.28093657550176687"
      ]
     },
     "execution_count": 61,
     "metadata": {},
     "output_type": "execute_result"
    }
   ],
   "source": [
    "df.corr(\"sex\", \"target\")"
   ]
  },
  {
   "cell_type": "code",
   "execution_count": 62,
   "metadata": {},
   "outputs": [
    {
     "data": {
      "text/plain": [
       "-0.08523910513756904"
      ]
     },
     "execution_count": 62,
     "metadata": {},
     "output_type": "execute_result"
    }
   ],
   "source": [
    "df.corr(\"chol\", \"target\")"
   ]
  },
  {
   "cell_type": "code",
   "execution_count": 63,
   "metadata": {},
   "outputs": [
    {
     "data": {
      "text/plain": [
       "0.12317420653239061"
      ]
     },
     "execution_count": 63,
     "metadata": {},
     "output_type": "execute_result"
    }
   ],
   "source": [
    "df.corr(\"chol\", \"trestbps\")"
   ]
  },
  {
   "cell_type": "code",
   "execution_count": 64,
   "metadata": {},
   "outputs": [
    {
     "data": {
      "text/plain": [
       "-0.22543871587483838"
      ]
     },
     "execution_count": 64,
     "metadata": {},
     "output_type": "execute_result"
    }
   ],
   "source": [
    "df.corr(\"age\", \"target\")"
   ]
  }
 ],
 "metadata": {
  "kernelspec": {
   "display_name": "Python 3",
   "language": "python",
   "name": "python3"
  },
  "language_info": {
   "codemirror_mode": {
    "name": "ipython",
    "version": 3
   },
   "file_extension": ".py",
   "mimetype": "text/x-python",
   "name": "python",
   "nbconvert_exporter": "python",
   "pygments_lexer": "ipython3",
   "version": "3.7.3"
  }
 },
 "nbformat": 4,
 "nbformat_minor": 2
}
